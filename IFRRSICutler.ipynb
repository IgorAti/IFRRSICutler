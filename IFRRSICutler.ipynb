{
 "cells": [
  {
   "cell_type": "markdown",
   "id": "bae7d6b9",
   "metadata": {},
   "source": [
    "## Desenvolvimento de indicador IFR (Índice de Força Relativa) - Modelo RSI Cutler"
   ]
  },
  {
   "cell_type": "code",
   "execution_count": 1,
   "id": "fa0b7e61",
   "metadata": {},
   "outputs": [
    {
     "name": "stdout",
     "output_type": "stream",
     "text": [
      "Requirement already satisfied: MetaTrader5 in c:\\users\\igor\\anaconda3\\lib\\site-packages (5.0.43)\n",
      "Requirement already satisfied: numpy>=1.7 in c:\\users\\igor\\anaconda3\\lib\\site-packages (from MetaTrader5) (1.23.5)\n"
     ]
    }
   ],
   "source": [
    "# Instalar MetaTrader5\n",
    "\n",
    "!pip install MetaTrader5"
   ]
  },
  {
   "cell_type": "code",
   "execution_count": 2,
   "id": "e5c23d1a",
   "metadata": {},
   "outputs": [],
   "source": [
    "# Análise e manipulação de dados\n",
    "\n",
    "import numpy as np\n",
    "import pandas as pd"
   ]
  },
  {
   "cell_type": "code",
   "execution_count": 3,
   "id": "d0dae031",
   "metadata": {},
   "outputs": [],
   "source": [
    "# Tratamento de séries temporais\n",
    "\n",
    "from datetime import datetime\n",
    "import pytz\n",
    "import time"
   ]
  },
  {
   "cell_type": "code",
   "execution_count": 4,
   "id": "981fa293",
   "metadata": {},
   "outputs": [],
   "source": [
    "# Integração com o MetaTrader5\n",
    "\n",
    "import MetaTrader5 as mt5"
   ]
  },
  {
   "cell_type": "code",
   "execution_count": 5,
   "id": "08bee084",
   "metadata": {},
   "outputs": [],
   "source": [
    "import seaborn as sns"
   ]
  },
  {
   "cell_type": "code",
   "execution_count": 8,
   "id": "5623a921",
   "metadata": {},
   "outputs": [],
   "source": [
    "# Inicializar contato MetraTrader5\n",
    "\n",
    "mt5.initialize()"
   ]
  },
  {
   "cell_type": "code",
   "execution_count": 9,
   "id": "2b46be37",
   "metadata": {},
   "outputs": [
    {
     "data": {
      "text/html": [
       "<div>\n",
       "<style scoped>\n",
       "    .dataframe tbody tr th:only-of-type {\n",
       "        vertical-align: middle;\n",
       "    }\n",
       "\n",
       "    .dataframe tbody tr th {\n",
       "        vertical-align: top;\n",
       "    }\n",
       "\n",
       "    .dataframe thead th {\n",
       "        text-align: right;\n",
       "    }\n",
       "</style>\n",
       "<table border=\"1\" class=\"dataframe\">\n",
       "  <thead>\n",
       "    <tr style=\"text-align: right;\">\n",
       "      <th></th>\n",
       "      <th>time</th>\n",
       "      <th>open</th>\n",
       "      <th>high</th>\n",
       "      <th>low</th>\n",
       "      <th>close</th>\n",
       "      <th>tick_volume</th>\n",
       "      <th>spread</th>\n",
       "      <th>real_volume</th>\n",
       "      <th>diferenca_close</th>\n",
       "      <th>diferenca_pos</th>\n",
       "      <th>diferenca_neg</th>\n",
       "      <th>media_pos</th>\n",
       "      <th>media_neg</th>\n",
       "      <th>IFR</th>\n",
       "    </tr>\n",
       "    <tr>\n",
       "      <th>time</th>\n",
       "      <th></th>\n",
       "      <th></th>\n",
       "      <th></th>\n",
       "      <th></th>\n",
       "      <th></th>\n",
       "      <th></th>\n",
       "      <th></th>\n",
       "      <th></th>\n",
       "      <th></th>\n",
       "      <th></th>\n",
       "      <th></th>\n",
       "      <th></th>\n",
       "      <th></th>\n",
       "      <th></th>\n",
       "    </tr>\n",
       "  </thead>\n",
       "  <tbody>\n",
       "    <tr>\n",
       "      <th>2023-07-18 15:36:00</th>\n",
       "      <td>2023-07-18 15:36:00</td>\n",
       "      <td>119150.0</td>\n",
       "      <td>119165.0</td>\n",
       "      <td>119110.0</td>\n",
       "      <td>119130.0</td>\n",
       "      <td>1198</td>\n",
       "      <td>0</td>\n",
       "      <td>15013</td>\n",
       "      <td>-20.0</td>\n",
       "      <td>0.0</td>\n",
       "      <td>20.0</td>\n",
       "      <td>13.214286</td>\n",
       "      <td>12.500000</td>\n",
       "      <td>51.388889</td>\n",
       "    </tr>\n",
       "    <tr>\n",
       "      <th>2023-07-18 15:37:00</th>\n",
       "      <td>2023-07-18 15:37:00</td>\n",
       "      <td>119125.0</td>\n",
       "      <td>119160.0</td>\n",
       "      <td>119125.0</td>\n",
       "      <td>119145.0</td>\n",
       "      <td>915</td>\n",
       "      <td>0</td>\n",
       "      <td>8900</td>\n",
       "      <td>15.0</td>\n",
       "      <td>15.0</td>\n",
       "      <td>0.0</td>\n",
       "      <td>14.285714</td>\n",
       "      <td>11.785714</td>\n",
       "      <td>54.794521</td>\n",
       "    </tr>\n",
       "    <tr>\n",
       "      <th>2023-07-18 15:38:00</th>\n",
       "      <td>2023-07-18 15:38:00</td>\n",
       "      <td>119145.0</td>\n",
       "      <td>119150.0</td>\n",
       "      <td>119130.0</td>\n",
       "      <td>119150.0</td>\n",
       "      <td>602</td>\n",
       "      <td>0</td>\n",
       "      <td>5956</td>\n",
       "      <td>5.0</td>\n",
       "      <td>5.0</td>\n",
       "      <td>0.0</td>\n",
       "      <td>14.642857</td>\n",
       "      <td>11.785714</td>\n",
       "      <td>55.405405</td>\n",
       "    </tr>\n",
       "    <tr>\n",
       "      <th>2023-07-18 15:39:00</th>\n",
       "      <td>2023-07-18 15:39:00</td>\n",
       "      <td>119145.0</td>\n",
       "      <td>119220.0</td>\n",
       "      <td>119135.0</td>\n",
       "      <td>119200.0</td>\n",
       "      <td>2126</td>\n",
       "      <td>0</td>\n",
       "      <td>35062</td>\n",
       "      <td>50.0</td>\n",
       "      <td>50.0</td>\n",
       "      <td>0.0</td>\n",
       "      <td>17.142857</td>\n",
       "      <td>11.785714</td>\n",
       "      <td>59.259259</td>\n",
       "    </tr>\n",
       "    <tr>\n",
       "      <th>2023-07-18 15:40:00</th>\n",
       "      <td>2023-07-18 15:40:00</td>\n",
       "      <td>119205.0</td>\n",
       "      <td>119280.0</td>\n",
       "      <td>119200.0</td>\n",
       "      <td>119225.0</td>\n",
       "      <td>2010</td>\n",
       "      <td>0</td>\n",
       "      <td>35575</td>\n",
       "      <td>25.0</td>\n",
       "      <td>25.0</td>\n",
       "      <td>0.0</td>\n",
       "      <td>18.928571</td>\n",
       "      <td>9.285714</td>\n",
       "      <td>67.088608</td>\n",
       "    </tr>\n",
       "  </tbody>\n",
       "</table>\n",
       "</div>"
      ],
      "text/plain": [
       "                                   time      open      high       low  \\\n",
       "time                                                                    \n",
       "2023-07-18 15:36:00 2023-07-18 15:36:00  119150.0  119165.0  119110.0   \n",
       "2023-07-18 15:37:00 2023-07-18 15:37:00  119125.0  119160.0  119125.0   \n",
       "2023-07-18 15:38:00 2023-07-18 15:38:00  119145.0  119150.0  119130.0   \n",
       "2023-07-18 15:39:00 2023-07-18 15:39:00  119145.0  119220.0  119135.0   \n",
       "2023-07-18 15:40:00 2023-07-18 15:40:00  119205.0  119280.0  119200.0   \n",
       "\n",
       "                        close  tick_volume  spread  real_volume  \\\n",
       "time                                                              \n",
       "2023-07-18 15:36:00  119130.0         1198       0        15013   \n",
       "2023-07-18 15:37:00  119145.0          915       0         8900   \n",
       "2023-07-18 15:38:00  119150.0          602       0         5956   \n",
       "2023-07-18 15:39:00  119200.0         2126       0        35062   \n",
       "2023-07-18 15:40:00  119225.0         2010       0        35575   \n",
       "\n",
       "                     diferenca_close  diferenca_pos  diferenca_neg  media_pos  \\\n",
       "time                                                                            \n",
       "2023-07-18 15:36:00            -20.0            0.0           20.0  13.214286   \n",
       "2023-07-18 15:37:00             15.0           15.0            0.0  14.285714   \n",
       "2023-07-18 15:38:00              5.0            5.0            0.0  14.642857   \n",
       "2023-07-18 15:39:00             50.0           50.0            0.0  17.142857   \n",
       "2023-07-18 15:40:00             25.0           25.0            0.0  18.928571   \n",
       "\n",
       "                     media_neg        IFR  \n",
       "time                                       \n",
       "2023-07-18 15:36:00  12.500000  51.388889  \n",
       "2023-07-18 15:37:00  11.785714  54.794521  \n",
       "2023-07-18 15:38:00  11.785714  55.405405  \n",
       "2023-07-18 15:39:00  11.785714  59.259259  \n",
       "2023-07-18 15:40:00   9.285714  67.088608  "
      ]
     },
     "execution_count": 9,
     "metadata": {},
     "output_type": "execute_result"
    }
   ],
   "source": [
    "# Selecionar o Ativo\n",
    "symbol3 = \"WIN$\"\n",
    "# Selecionar timezone para São Paulo\n",
    "timezone = pytz.timezone(\"America/sao_Paulo\")\n",
    "# Definir data inicial e data final\n",
    "data_inicio = datetime(2022,1,1, tzinfo=timezone)\n",
    "data_fim = datetime.today()\n",
    "# Criar objeto \"cotacoes\" com os dados do período\n",
    "cotacoes = mt5.copy_rates_range(symbol3, mt5.TIMEFRAME_M1, data_inicio, data_fim)\n",
    "# Criar dataframe a partir dos dados do objeto cotacoes\n",
    "df_IFR = pd.DataFrame(cotacoes)\n",
    "# Transformar a coluna \"time\" para formato de data e hora padrão\n",
    "df_IFR['time'] = pd.to_datetime(df_IFR['time'], unit = 's')\n",
    "df_IFR.index = df_IFR['time']\n",
    "# Criar nova coluna \"difenca_close\". \n",
    "# Calcular a diferença entre as colunas de fechamento 'close' em nova coluna criada.\n",
    "df_IFR['diferenca_close'] = df_IFR['close'].diff()\n",
    "# Filtrar valores > 0 em coluna 'diferenca_close' e colocá-los em nova coluna 'difenca_pos'\n",
    "# Em nova coluna 'difenca_pos', trocar 'Nan' por '0'\n",
    "df_IFR.loc[df_IFR['diferenca_close'] > 0, 'diferenca_pos'] = df_IFR['diferenca_close']\n",
    "df_IFR['diferenca_pos'] = df_IFR['diferenca_pos'].fillna(0)\n",
    "# Filtrar valores < 0 em coluna 'diferenca_close' e colocá-los em nova coluna 'difenca_neg'\n",
    "# Em nova coluna 'difenca_neg', trocar 'Nan' por '0'\n",
    "df_IFR.loc[df_IFR['diferenca_close'] < 0, 'diferenca_neg'] = abs(df_IFR['diferenca_close'])\n",
    "df_IFR['diferenca_neg'] = df_IFR['diferenca_neg'].fillna(0)\n",
    "# Criar nova coluna 'media_pos' e calcular valor de média, janela 14 períodos, de valores coluna 'diferenca_pos'\n",
    "# Em nova coluna 'media_pos', trocar 'Nan' por '0'\n",
    "df_IFR['media_pos'] = df_IFR['diferenca_pos'].rolling(window = 14).mean()\n",
    "df_IFR['media_pos'] = df_IFR['media_pos'].fillna(0)\n",
    "# Criar nova coluna 'media_neg' e calcular valor de média, janela 14 períodos, de valores coluna 'diferenca_neg'\n",
    "# Em nova coluna 'media_neg', trocar 'Nan' por '0'\n",
    "df_IFR['media_neg'] = df_IFR['diferenca_neg'].rolling(window = 14).mean()\n",
    "df_IFR['media_neg'] = df_IFR['media_neg'].fillna(0)\n",
    "# Criar coluna IFR e realizar cálculo valor IFR Cutler\n",
    "df_IFR['IFR'] = (100-(100/(1+(df_IFR['media_pos']/df_IFR['media_neg']))))\n",
    "df_IFR.tail()"
   ]
  },
  {
   "cell_type": "code",
   "execution_count": 10,
   "id": "8ab3b42e",
   "metadata": {},
   "outputs": [
    {
     "data": {
      "text/plain": [
       "67.0886075949367"
      ]
     },
     "execution_count": 10,
     "metadata": {},
     "output_type": "execute_result"
    }
   ],
   "source": [
    "df_IFR['IFR'][-1]"
   ]
  }
 ],
 "metadata": {
  "kernelspec": {
   "display_name": "Python 3 (ipykernel)",
   "language": "python",
   "name": "python3"
  },
  "language_info": {
   "codemirror_mode": {
    "name": "ipython",
    "version": 3
   },
   "file_extension": ".py",
   "mimetype": "text/x-python",
   "name": "python",
   "nbconvert_exporter": "python",
   "pygments_lexer": "ipython3",
   "version": "3.9.16"
  }
 },
 "nbformat": 4,
 "nbformat_minor": 5
}
